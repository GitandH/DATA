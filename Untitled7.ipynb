{
  "nbformat": 4,
  "nbformat_minor": 0,
  "metadata": {
    "colab": {
      "provenance": []
    },
    "kernelspec": {
      "name": "python3",
      "display_name": "Python 3"
    },
    "language_info": {
      "name": "python"
    }
  },
  "cells": [
    {
      "cell_type": "code",
      "execution_count": null,
      "metadata": {
        "id": "GiVNkFfhudEv"
      },
      "outputs": [],
      "source": [
        "import pandas as pd\n",
        "import matplotlib.pyplot as plt\n",
        "import seaborn as sns\n",
        "\n",
        "df = pd.read_csv('/content/train.csv')\n",
        "df"
      ]
    },
    {
      "cell_type": "code",
      "source": [
        "df[df['Fare'] >= 500]"
      ],
      "metadata": {
        "id": "JGNJiyuqvYST"
      },
      "execution_count": null,
      "outputs": []
    },
    {
      "cell_type": "code",
      "source": [
        "df[df['Fare'] == 0]"
      ],
      "metadata": {
        "id": "gGKE4eXCyGuh"
      },
      "execution_count": null,
      "outputs": []
    },
    {
      "cell_type": "code",
      "source": [
        "df.groupby(['Embarked','Pclass'])['Fare'].mean()"
      ],
      "metadata": {
        "id": "e-yfoOttyn69"
      },
      "execution_count": null,
      "outputs": []
    },
    {
      "cell_type": "code",
      "source": [
        "sns.boxplot(data=df,x='Embarked',y='Fare',hue='Pclass')\n",
        "plt.show"
      ],
      "metadata": {
        "id": "wqYwJUet16uy"
      },
      "execution_count": null,
      "outputs": []
    },
    {
      "cell_type": "code",
      "source": [
        "df.isna().sum()"
      ],
      "metadata": {
        "id": "h65QlHQh3F3b"
      },
      "execution_count": null,
      "outputs": []
    },
    {
      "cell_type": "code",
      "source": [
        "df_sfill = df.fillna(100)\n",
        "df_sfill"
      ],
      "metadata": {
        "id": "YP4NAuPh3bYc"
      },
      "execution_count": null,
      "outputs": []
    },
    {
      "cell_type": "code",
      "source": [
        "df['Age'] = df['Age'].fillna(df['Age'].mean())\n",
        "df"
      ],
      "metadata": {
        "id": "sQg6I0Ry37qD"
      },
      "execution_count": null,
      "outputs": []
    },
    {
      "cell_type": "code",
      "source": [
        "df.drop('Cabin',axis=1,inplace=True)"
      ],
      "metadata": {
        "id": "f_tDKenI5xIr"
      },
      "execution_count": null,
      "outputs": []
    },
    {
      "cell_type": "code",
      "source": [
        "df"
      ],
      "metadata": {
        "id": "uQf1JzHS7uEl"
      },
      "execution_count": null,
      "outputs": []
    },
    {
      "cell_type": "code",
      "source": [
        "df['Embarked'] = df['Embarked'].fillna('S')\n",
        "df.isna().sum()"
      ],
      "metadata": {
        "id": "Cs4C5QXw88Yj"
      },
      "execution_count": null,
      "outputs": []
    },
    {
      "cell_type": "code",
      "source": [
        "df.groupby(['Sex'])['Survived'].mean()"
      ],
      "metadata": {
        "id": "AQ6pIodv9mJU"
      },
      "execution_count": null,
      "outputs": []
    },
    {
      "cell_type": "code",
      "source": [
        "df.groupby(['Sex','Survived']).count()"
      ],
      "metadata": {
        "id": "VFhcXFVm-U0S"
      },
      "execution_count": null,
      "outputs": []
    },
    {
      "cell_type": "code",
      "source": [
        "df.groupby(['Pclass','Survived']).count()"
      ],
      "metadata": {
        "id": "uMUwUk31_Ajy"
      },
      "execution_count": null,
      "outputs": []
    },
    {
      "cell_type": "code",
      "source": [
        "sns.barplot(data=df,x='Pclass',y='Survived',hue='Sex')\n",
        "plt.show()"
      ],
      "metadata": {
        "id": "KYrMksKf_GTo"
      },
      "execution_count": null,
      "outputs": []
    },
    {
      "cell_type": "code",
      "source": [
        "sns.barplot(data=df,x='Embarked',y='Survived',hue='Sex')\n",
        "plt.show()"
      ],
      "metadata": {
        "id": "KfVZW81y_pad"
      },
      "execution_count": null,
      "outputs": []
    },
    {
      "cell_type": "code",
      "source": [
        "def AgeDiff(age):\n",
        "  if age < 16:\n",
        "    return 'C'\n",
        "  elif age < 50:\n",
        "    return 'A'\n",
        "  else:\n",
        "    return 'E'\n",
        "\n",
        "df['AgeDiff'] = df['Age'].apply(AgeDiff)\n",
        "df"
      ],
      "metadata": {
        "id": "RRQ8TOeh_8ek"
      },
      "execution_count": null,
      "outputs": []
    },
    {
      "cell_type": "code",
      "source": [
        "df['Age'].sort_values().tail(1)"
      ],
      "metadata": {
        "id": "QfZvfSbsCVbL"
      },
      "execution_count": null,
      "outputs": []
    },
    {
      "cell_type": "code",
      "source": [
        "#승선한 항구에 따른 평균요금\n",
        "df.groupby(['Embarked'])['Fare'].mean()"
      ],
      "metadata": {
        "id": "k514RpmCCrYM"
      },
      "execution_count": null,
      "outputs": []
    },
    {
      "cell_type": "code",
      "source": [
        "df.groupby(['Embarked','Sex'])['Survived'].count()"
      ],
      "metadata": {
        "id": "k2pfz-NhE2yT"
      },
      "execution_count": null,
      "outputs": []
    }
  ]
}