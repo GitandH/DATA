{
  "nbformat": 4,
  "nbformat_minor": 0,
  "metadata": {
    "colab": {
      "provenance": []
    },
    "kernelspec": {
      "name": "python3",
      "display_name": "Python 3"
    },
    "language_info": {
      "name": "python"
    }
  },
  "cells": [
    {
      "cell_type": "code",
      "execution_count": 20,
      "metadata": {
        "id": "hRmuM2BysEJg"
      },
      "outputs": [],
      "source": [
        "import pandas as pd\n",
        "import matplotlib.pyplot as plt\n",
        "import seaborn as sns\n",
        "df_k = pd.read_csv('/content/키_몸무게_2019.csv')\n",
        "df_k = df_k.set_index('Unnamed: 0')\n",
        "df_k = df_k.T\n",
        "df_k.columns = ['신장','체중','허리둘레']\n",
        "\n"
      ]
    },
    {
      "cell_type": "code",
      "source": [
        "df_k.columns = ['신장','체중','허리둘레']\n",
        "#pd[A].unique()"
      ],
      "metadata": {
        "id": "nAwK2niyvqDz"
      },
      "execution_count": 11,
      "outputs": []
    },
    {
      "cell_type": "code",
      "source": [
        "#dk_k['신장'].unique()\n",
        "df_k[df_k['신장'] == 160]\n",
        "df_160 = df_k[df_k['신장'] == 160]\n",
        "df_160['체중'].sum()\n",
        "len(df_160)\n",
        "df_160['체중'].mean()\n",
        "df_k.groupby('신장')['체중'].mean()\n",
        "df_k.groupby('신장')['허리둘레'].mean()"
      ],
      "metadata": {
        "id": "sObSVHXIvsHk"
      },
      "execution_count": null,
      "outputs": []
    },
    {
      "cell_type": "code",
      "source": [
        "df_k.index = df_k.index.astype(int)\n",
        "plt.figure(figsize=(12,5))\n",
        "plt.xlabel('index')\n",
        "plt.ylabel('신장/체중/허리둘레')\n",
        "plt.title('sinjang/chajong/huridulla')\n",
        "plt.plot(df_k)\n",
        "plt.show()"
      ],
      "metadata": {
        "id": "oWXN6_7Ax16k"
      },
      "execution_count": null,
      "outputs": []
    },
    {
      "cell_type": "code",
      "source": [
        "sns.boxplot(df_k)\n",
        "plt.show"
      ],
      "metadata": {
        "id": "Kgx3vgll1V6R"
      },
      "execution_count": null,
      "outputs": []
    },
    {
      "cell_type": "code",
      "source": [
        "def 체중구분(체중):\n",
        "  if 체중 < 55:\n",
        "    return '마름'\n",
        "  elif 체중 < 70:\n",
        "    return '보통'\n",
        "  else:\n",
        "    return '통통'\n",
        "\n",
        "df_k['구분'] = df_k['체중'].apply(체중구분)\n",
        "df_k"
      ],
      "metadata": {
        "id": "KiJ_3c-U3DQF"
      },
      "execution_count": null,
      "outputs": []
    },
    {
      "cell_type": "code",
      "source": [
        "sns.scatterplot(data = df_k, x = '신장', y='체중', color = 'red')\n",
        "plt.show()"
      ],
      "metadata": {
        "id": "9CKMbIcK3_rV"
      },
      "execution_count": null,
      "outputs": []
    },
    {
      "cell_type": "code",
      "source": [
        "df_m = pd.read_csv('/content/맥도날드 세트메뉴 칼로리.csv')\n",
        "df_m"
      ],
      "metadata": {
        "id": "NH9LmsPP4UBR"
      },
      "execution_count": null,
      "outputs": []
    },
    {
      "cell_type": "code",
      "source": [
        "df_m.columns = ['세트','칼로리']\n",
        "df_m"
      ],
      "metadata": {
        "id": "h7yeG_2B7n_k"
      },
      "execution_count": null,
      "outputs": []
    },
    {
      "cell_type": "code",
      "source": [
        "df_m.nsmallest(3,'칼로리')\n",
        "df_m.nlargest(3,'칼로리')"
      ],
      "metadata": {
        "id": "1i34cksc9JAN"
      },
      "execution_count": null,
      "outputs": []
    },
    {
      "cell_type": "code",
      "source": [
        "df_m = df_m.sort_values(by='칼로리',ascending=False)\n",
        "df_m"
      ],
      "metadata": {
        "id": "yEoRtSw-8jWd"
      },
      "execution_count": null,
      "outputs": []
    },
    {
      "cell_type": "code",
      "source": [
        "plt.figure(figsize=(10,5))\n",
        "plt.hist(df_m['칼로리'] , bins=10, edgecolor = 'black',color='salmon')\n",
        "plt.xlabel('칼로리')\n",
        "plt.ylabel('수량')\n",
        "plt.title('^^')\n",
        "plt.show()"
      ],
      "metadata": {
        "id": "laHaErFU9_-z"
      },
      "execution_count": null,
      "outputs": []
    }
  ]
}