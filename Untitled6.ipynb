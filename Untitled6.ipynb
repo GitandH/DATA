{
  "nbformat": 4,
  "nbformat_minor": 0,
  "metadata": {
    "colab": {
      "provenance": []
    },
    "kernelspec": {
      "name": "python3",
      "display_name": "Python 3"
    },
    "language_info": {
      "name": "python"
    }
  },
  "cells": [
    {
      "cell_type": "code",
      "execution_count": null,
      "metadata": {
        "id": "NXfRofvNJUb6"
      },
      "outputs": [],
      "source": [
        "import pandas as pd\n",
        "import matplotlib.pyplot as plt\n",
        "\n",
        "\n",
        "df = pd.read_csv('/content/seoul_temp.csv')\n",
        "df"
      ]
    },
    {
      "cell_type": "code",
      "source": [
        "df['년'] = df['년'].str[3:]\n",
        "df"
      ],
      "metadata": {
        "id": "xHTUJShMJeNt"
      },
      "execution_count": null,
      "outputs": []
    },
    {
      "cell_type": "code",
      "source": [
        "df.head(5)\n",
        "df.tail(5)"
      ],
      "metadata": {
        "id": "TP8tTvI1L4Jd"
      },
      "execution_count": null,
      "outputs": []
    },
    {
      "cell_type": "code",
      "source": [
        "df.info"
      ],
      "metadata": {
        "id": "Eba0y7ueMSm0"
      },
      "execution_count": null,
      "outputs": []
    },
    {
      "cell_type": "code",
      "source": [
        "df.describe()"
      ],
      "metadata": {
        "id": "dTjw1NlfNN3C"
      },
      "execution_count": null,
      "outputs": []
    },
    {
      "cell_type": "code",
      "source": [
        "df.shape"
      ],
      "metadata": {
        "id": "fHgW0CMENSMc"
      },
      "execution_count": null,
      "outputs": []
    },
    {
      "cell_type": "code",
      "source": [
        "df.columns"
      ],
      "metadata": {
        "id": "h5wy8cJjNWm1"
      },
      "execution_count": null,
      "outputs": []
    },
    {
      "cell_type": "code",
      "source": [
        "df.isnull()"
      ],
      "metadata": {
        "id": "qYG_-MfINZCm"
      },
      "execution_count": null,
      "outputs": []
    },
    {
      "cell_type": "code",
      "source": [
        "df.isnull().sum()"
      ],
      "metadata": {
        "id": "W0VUHFi5Nwhi"
      },
      "execution_count": null,
      "outputs": []
    },
    {
      "cell_type": "code",
      "source": [
        "df.dropna(subset=['지점'], inplace=True)\n",
        "df.isnull().sum()"
      ],
      "metadata": {
        "id": "sKd71uNaPfXV"
      },
      "execution_count": null,
      "outputs": []
    },
    {
      "cell_type": "code",
      "source": [
        "df.fillna(df.mean(),inplace = True)\n",
        "df"
      ],
      "metadata": {
        "id": "UE2mW7EmQAvR"
      },
      "execution_count": null,
      "outputs": []
    },
    {
      "cell_type": "code",
      "source": [
        "df['년'] > '1988'"
      ],
      "metadata": {
        "id": "oHhiaFn8Qx2l"
      },
      "execution_count": null,
      "outputs": []
    },
    {
      "cell_type": "code",
      "source": [
        "df[df['년']>'1988']"
      ],
      "metadata": {
        "id": "AyMxknFZQ5vf"
      },
      "execution_count": null,
      "outputs": []
    },
    {
      "cell_type": "code",
      "source": [
        "df['년'] = df['년'].astype(int)\n",
        "df[df['년']>1988]"
      ],
      "metadata": {
        "id": "3wRmStFpRMMI"
      },
      "execution_count": null,
      "outputs": []
    },
    {
      "cell_type": "code",
      "source": [
        "df[(df['년']>1988) & (df['평균기온']>=13)]"
      ],
      "metadata": {
        "id": "ccrEYh90Rd-n"
      },
      "execution_count": 97,
      "outputs": []
    },
    {
      "cell_type": "code",
      "source": [
        "df = df.rename(columns={'년':'연도','평균기온':'평균','최고기온':'최고','최저기온':'최저'})\n",
        "df"
      ],
      "metadata": {
        "id": "P3FcD34rR9Cg"
      },
      "execution_count": null,
      "outputs": []
    },
    {
      "cell_type": "code",
      "source": [
        "df.nlargest(5,'최고')"
      ],
      "metadata": {
        "id": "2caYmsjKTIeb"
      },
      "execution_count": null,
      "outputs": []
    },
    {
      "cell_type": "code",
      "source": [
        "df.nsmallest(5,'최저')"
      ],
      "metadata": {
        "id": "VZR6pPYkTO16"
      },
      "execution_count": null,
      "outputs": []
    },
    {
      "cell_type": "code",
      "source": [
        "df[(df['평균']>=13)&(df['최저']<9.3)]"
      ],
      "metadata": {
        "id": "SkOYrXzzTUKC"
      },
      "execution_count": null,
      "outputs": []
    },
    {
      "cell_type": "code",
      "source": [
        "x = df['연도']\n",
        "y = df['평균']\n",
        "plt.plot(x,y)\n",
        "y_max = df['최고']\n",
        "y_min = df['최저']\n",
        "plt.plot(x,y,color = 'green',label='avg')\n",
        "plt.plot(x,y_max, color='red',label='max')\n",
        "plt.plot(x,y_min, color='blue',label='min')\n",
        "plt.legend()\n",
        "plt.title('seoul temp')\n",
        "plt.xlabel('year')\n",
        "plt.ylabel('temp')\n",
        "plt.grid()\n",
        "plt.show()"
      ],
      "metadata": {
        "id": "MVvu5STNT6EV"
      },
      "execution_count": null,
      "outputs": []
    }
  ]
}