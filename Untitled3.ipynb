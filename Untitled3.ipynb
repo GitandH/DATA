{
  "nbformat": 4,
  "nbformat_minor": 0,
  "metadata": {
    "colab": {
      "provenance": []
    },
    "kernelspec": {
      "name": "python3",
      "display_name": "Python 3"
    },
    "language_info": {
      "name": "python"
    }
  },
  "cells": [
    {
      "cell_type": "code",
      "source": [
        "from google.colab import drive\n",
        "drive.mount('/content/gdrive')"
      ],
      "metadata": {
        "colab": {
          "base_uri": "https://localhost:8080/"
        },
        "id": "Ch0Jy-MQuMCc",
        "outputId": "a41165c2-afdb-4789-8004-62e2c656ef83"
      },
      "execution_count": 49,
      "outputs": [
        {
          "output_type": "stream",
          "name": "stdout",
          "text": [
            "Drive already mounted at /content/gdrive; to attempt to forcibly remount, call drive.mount(\"/content/gdrive\", force_remount=True).\n"
          ]
        }
      ]
    },
    {
      "cell_type": "code",
      "source": [
        "pic = 18"
      ],
      "metadata": {
        "id": "D6-iN1JIuSrY"
      },
      "execution_count": 50,
      "outputs": []
    },
    {
      "cell_type": "code",
      "execution_count": 51,
      "metadata": {
        "id": "4OHb8cSigS-A"
      },
      "outputs": [],
      "source": [
        "from sklearn import svm, metrics, model_selection\n",
        "import joblib\n",
        "import glob\n",
        "from PIL import Image\n",
        "import pandas as pd\n",
        "import numpy as np\n",
        "\n",
        "def 이미지_인식기(file_path):\n",
        "  이미지수 = glob.glob(file_path + '*.png')\n",
        "  이미지리스트 = []\n",
        "\n",
        "  for i in 이미지수:\n",
        "    이미지 = Image.open(i).convert('L').resize((pic, pic), Image.ANTIALIAS)\n",
        "    이미지배열 = np.array(이미지.getdata()).reshape(pic,pic)\n",
        "\n",
        "    이미지리스트.append(이미지배열.reshape(1,-1)[0])\n",
        "\n",
        "  이미지라벨 = []\n",
        "\n",
        "  for i in range(len(이미지수)):\n",
        "    if 'rhino' in 이미지수[i]:\n",
        "      이미지라벨.append(1)\n",
        "    else:\n",
        "      이미지라벨.append(2)\n",
        "\n",
        "  이미지데이터_df = pd.DataFrame(이미지리스트)\n",
        "  이미지데이터_df['species[1R/2T]'] = 이미지라벨\n",
        "  이미지데이터_df_name_array = 이미지데이터_df.columns.tolist()\n",
        "\n",
        "  이미지클래스 = svm.SVC()\n",
        "\n",
        "  이미지_x = 이미지데이터_df.iloc[:, 0:(18*18)]\n",
        "  이미지_y = 이미지데이터_df['species[1R/2T]']\n",
        "\n",
        "  이미지클래스.fit(이미지_x,이미지_y)\n",
        "\n",
        "  이미지_예측 = 이미지클래스.predict(이미지_x)\n",
        "  정확도 = metrics.accuracy_score(이미지_y, 이미지_예측)\n",
        "  print('acc : {:.1f}'.format(정확도 * 100))\n",
        "\n",
        "  joblib.dump(이미지클래스, '/content/gdrive/MyDrive/Colab Notebooks/AI LAB-20231223T023550Z-001/AI LAB/사자와코뿔소/tiger_rhino.pkl')\n",
        "\n",
        "  print('GG')\n",
        "\n",
        "\n"
      ]
    },
    {
      "cell_type": "code",
      "source": [
        "이미지_인식기('/content/gdrive/MyDrive/Colab Notebooks/AI LAB-20231223T023550Z-001/AI LAB/사자와코뿔소/')"
      ],
      "metadata": {
        "colab": {
          "base_uri": "https://localhost:8080/"
        },
        "id": "AZHuIQOzu-wR",
        "outputId": "4ef74bce-7c1c-48ce-94e7-407a4c6faf0f"
      },
      "execution_count": 52,
      "outputs": [
        {
          "output_type": "stream",
          "name": "stderr",
          "text": [
            "<ipython-input-51-4d5372acf41c>:13: DeprecationWarning: ANTIALIAS is deprecated and will be removed in Pillow 10 (2023-07-01). Use LANCZOS or Resampling.LANCZOS instead.\n",
            "  이미지 = Image.open(i).convert('L').resize((pic, pic), Image.ANTIALIAS)\n"
          ]
        },
        {
          "output_type": "stream",
          "name": "stdout",
          "text": [
            "acc : 98.3\n",
            "GG\n"
          ]
        }
      ]
    },
    {
      "cell_type": "code",
      "source": [
        "def 이미지_사용(file_path):\n",
        "  이미지모델로더 = joblib.load('/content/gdrive/MyDrive/Colab Notebooks/AI LAB-20231223T023550Z-001/AI LAB/사자와코뿔소/tiger_rhino.pkl')\n",
        "  이미지수 = glob.glob(file_path + '*.png')\n",
        "  이미지리스트 = []\n",
        "\n",
        "  for i in range(len(이미지수)):\n",
        "    try :\n",
        "      이미지예측 = Image.open(이미지수[i]).convert('L').resize((pic,pic), Image.ANTIALIAS)\n",
        "      이미지배열 = np.array(이미지예측.getdata()).reshape(pic,pic)\n",
        "\n",
        "      print((이미지수[i]).replace(file_path,' '), ' ->>','코뿔소' if 이미지모델로더.predict(이미지배열.reshape(1, -1) )[0] == 1 else '호랑이')\n",
        "    except Exception as e:\n",
        "      print(e)\n",
        "      pass"
      ],
      "metadata": {
        "id": "LlnFWmKQyISZ"
      },
      "execution_count": 53,
      "outputs": []
    },
    {
      "cell_type": "code",
      "source": [
        "이미지_사용('/content/gdrive/MyDrive/Colab Notebooks/AI LAB-20231223T023550Z-001/AI LAB/')"
      ],
      "metadata": {
        "id": "x6o9gTkM3LBs"
      },
      "execution_count": null,
      "outputs": []
    }
  ]
}