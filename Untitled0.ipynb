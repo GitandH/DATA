{
  "nbformat": 4,
  "nbformat_minor": 0,
  "metadata": {
    "colab": {
      "provenance": []
    },
    "kernelspec": {
      "name": "python3",
      "display_name": "Python 3"
    },
    "language_info": {
      "name": "python"
    }
  },
  "cells": [
    {
      "cell_type": "code",
      "source": [
        "n = int(input('물건구매가를 입력하세요:'))\n",
        "m = 0\n",
        "q = 0\n",
        "f = 0\n",
        "if n >= 10000 and n < 50000:\n",
        "  m = n * 0.05\n",
        "  q = n-m\n",
        "  f = '5%'\n",
        "elif n >= 50000 and n < 100000:\n",
        "  m = n * 0.075\n",
        "  q = n-m\n",
        "  f='7.5%'\n",
        "elif n >= 100000:\n",
        "  m = n * 0.1\n",
        "  q = n-m\n",
        "  f= '10%'\n",
        "print('구매가',n)\n",
        "print('할인율',f)\n",
        "print('할인금액',m)\n",
        "print('지불금액',q)"
      ],
      "metadata": {
        "id": "m349U1x_iJ5d"
      },
      "execution_count": null,
      "outputs": []
    },
    {
      "cell_type": "code",
      "source": [
        "n = int(input('나이:'))\n",
        "m = 0\n",
        "if n >= 65 or n <= 7:\n",
        "  m = '무료입니다'\n",
        "elif n >= 8 and n <= 18:\n",
        "  m = '1000원입니다'\n",
        "else:\n",
        "  m = '3000원입니다'\n",
        "print(m)"
      ],
      "metadata": {
        "id": "DDPNxFjNiCbt"
      },
      "execution_count": null,
      "outputs": []
    },
    {
      "cell_type": "code",
      "source": [
        "for i in range(2, 10):\n",
        "  for z in range(1,10):\n",
        "    print(i,'X',z,'=',i*z)\n",
        "    print('----------')"
      ],
      "metadata": {
        "id": "9VRrvTXzh1gD"
      },
      "execution_count": null,
      "outputs": []
    },
    {
      "cell_type": "code",
      "source": [
        "dol = ['뉴진스','에스파','르세라핌','블랙핑크','아이브']\n",
        "dol.append('BTS')\n",
        "dol.insert(3,'마마무')\n",
        "n = dol.index('르세라핌')\n",
        "dol.remove('르세라핌')\n",
        "dol.insert(n+1,'여자아이들')\n",
        "dol.remove('BTS')\n",
        "print(dol)"
      ],
      "metadata": {
        "id": "T0l65mM_htGC"
      },
      "execution_count": null,
      "outputs": []
    },
    {
      "cell_type": "code",
      "execution_count": 24,
      "metadata": {
        "colab": {
          "base_uri": "https://localhost:8080/"
        },
        "id": "SQSIQPxiYeaK",
        "outputId": "4381740c-443b-4f51-d5fa-dce72aa02f33"
      },
      "outputs": [
        {
          "output_type": "stream",
          "name": "stdout",
          "text": [
            "숫자:2\n",
            "숫자:4\n",
            "숫자:7\n",
            "숫자:0\n",
            "합계: 13\n"
          ]
        }
      ],
      "source": [
        "합계 = 0\n",
        "n = 1\n",
        "while n != 0:\n",
        "  n = int(input('숫자:'))\n",
        "  합계 += n\n",
        "print('합계:',합계)"
      ]
    },
    {
      "cell_type": "code",
      "source": [
        "n=1\n",
        "for i in range(1,int(input('입력:'))+1):\n",
        "  n *= i\n",
        "print(n)"
      ],
      "metadata": {
        "colab": {
          "base_uri": "https://localhost:8080/"
        },
        "id": "58cIiDVMj5-j",
        "outputId": "d2b525ad-8dd2-41a3-a488-549e216c3c53"
      },
      "execution_count": 30,
      "outputs": [
        {
          "output_type": "stream",
          "name": "stdout",
          "text": [
            "입력:5\n",
            "120\n"
          ]
        }
      ]
    },
    {
      "cell_type": "code",
      "source": [
        "n = int(input('숫자:'))\n",
        "for i in range(1,10):\n",
        "  print(n,'x',i,'=',i*n)"
      ],
      "metadata": {
        "colab": {
          "base_uri": "https://localhost:8080/"
        },
        "id": "urErBymLldl8",
        "outputId": "e4a32a93-8cf5-4952-a236-5fc27f8148f2"
      },
      "execution_count": 31,
      "outputs": [
        {
          "output_type": "stream",
          "name": "stdout",
          "text": [
            "숫자:3\n",
            "3 x 1 = 3\n",
            "3 x 2 = 6\n",
            "3 x 3 = 9\n",
            "3 x 4 = 12\n",
            "3 x 5 = 15\n",
            "3 x 6 = 18\n",
            "3 x 7 = 21\n",
            "3 x 8 = 24\n",
            "3 x 9 = 27\n"
          ]
        }
      ]
    },
    {
      "cell_type": "code",
      "source": [
        "import random\n",
        "n = random.randint(1,100)\n",
        "f= 0\n",
        "while f != n:\n",
        "  f = int(input('숫자를 입력하시오:'))\n",
        "  if f > n:\n",
        "    print('DOWN')\n",
        "  elif f < n:\n",
        "    print('UP')\n",
        "print('정답')"
      ],
      "metadata": {
        "colab": {
          "base_uri": "https://localhost:8080/"
        },
        "id": "thaFaKBImsdS",
        "outputId": "c92d0fce-1989-4aa2-aa1a-27cab0052e82"
      },
      "execution_count": 34,
      "outputs": [
        {
          "output_type": "stream",
          "name": "stdout",
          "text": [
            "숫자를 입력하시오:50\n",
            "DOWN\n",
            "숫자를 입력하시오:25\n",
            "UP\n",
            "숫자를 입력하시오:35\n",
            "정답\n"
          ]
        }
      ]
    }
  ]
}