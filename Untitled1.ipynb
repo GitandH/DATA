{
  "nbformat": 4,
  "nbformat_minor": 0,
  "metadata": {
    "colab": {
      "provenance": []
    },
    "kernelspec": {
      "name": "python3",
      "display_name": "Python 3"
    },
    "language_info": {
      "name": "python"
    }
  },
  "cells": [
    {
      "cell_type": "code",
      "execution_count": 1,
      "metadata": {
        "colab": {
          "base_uri": "https://localhost:8080/"
        },
        "id": "_Z-_0rFdW60C",
        "outputId": "03224c4a-806f-48b4-ed94-65f042bf0d12"
      },
      "outputs": [
        {
          "output_type": "stream",
          "name": "stdout",
          "text": [
            "[1, 2, 3, 4, 5]\n",
            "[1 2 3 4 5]\n"
          ]
        }
      ],
      "source": [
        "import numpy as np\n",
        "list = [1,2,3,4,5]\n",
        "print(list)\n",
        "arr =  np.array(list)\n",
        "print(arr)"
      ]
    },
    {
      "cell_type": "code",
      "source": [
        "arr = np.array([1,'a',3])\n",
        "print(arr)"
      ],
      "metadata": {
        "colab": {
          "base_uri": "https://localhost:8080/"
        },
        "id": "L6LE8XbBXwma",
        "outputId": "97d19302-e36e-46be-8b6f-3849e9afef48"
      },
      "execution_count": 2,
      "outputs": [
        {
          "output_type": "stream",
          "name": "stdout",
          "text": [
            "['1' 'a' '3']\n"
          ]
        }
      ]
    },
    {
      "cell_type": "code",
      "source": [
        "arr = np.array([1,2,0.3])\n",
        "print(arr)"
      ],
      "metadata": {
        "colab": {
          "base_uri": "https://localhost:8080/"
        },
        "id": "xAkumMg1X-ih",
        "outputId": "8a40ff6a-d454-4dd9-e8ea-3f44afc7ac7b"
      },
      "execution_count": 3,
      "outputs": [
        {
          "output_type": "stream",
          "name": "stdout",
          "text": [
            "[1.  2.  0.3]\n"
          ]
        }
      ]
    },
    {
      "cell_type": "code",
      "source": [
        "arr = np.array([2,5,8,9,12,23,27,32,35])\n",
        "print(arr[0:8:2])"
      ],
      "metadata": {
        "colab": {
          "base_uri": "https://localhost:8080/"
        },
        "id": "dkYcc-C3YVHJ",
        "outputId": "9c58b733-66f2-4066-82ed-15a94edcb801"
      },
      "execution_count": 12,
      "outputs": [
        {
          "output_type": "stream",
          "name": "stdout",
          "text": [
            "[ 2  8 12 27]\n"
          ]
        }
      ]
    },
    {
      "cell_type": "code",
      "source": [
        "arr1 = np.array([1,2,3,4,5])\n",
        "print(arr1)\n",
        "\n",
        "arr2 = np.array([[1,2],[3,4],[5,6]])\n",
        "print(arr2)\n",
        "\n",
        "print(arr1.shape)\n",
        "print(arr2.shape)\n"
      ],
      "metadata": {
        "colab": {
          "base_uri": "https://localhost:8080/"
        },
        "id": "g_q-9ZEnapXB",
        "outputId": "8ea491eb-3b3b-48a9-bc47-c4004d78d563"
      },
      "execution_count": 13,
      "outputs": [
        {
          "output_type": "stream",
          "name": "stdout",
          "text": [
            "[1 2 3 4 5]\n",
            "[[1 2]\n",
            " [3 4]\n",
            " [5 6]]\n",
            "(5,)\n",
            "(3, 2)\n"
          ]
        }
      ]
    },
    {
      "cell_type": "code",
      "source": [
        "np.random.random((2, 3))\n"
      ],
      "metadata": {
        "colab": {
          "base_uri": "https://localhost:8080/"
        },
        "id": "b9Iu-m83b0I6",
        "outputId": "8c6e5d5f-5ea4-42fe-eac2-8c8a0a53eb09"
      },
      "execution_count": 18,
      "outputs": [
        {
          "output_type": "execute_result",
          "data": {
            "text/plain": [
              "array([[0.70134021, 0.7757295 , 0.6818252 ],\n",
              "       [0.23836522, 0.73764033, 0.73929801]])"
            ]
          },
          "metadata": {},
          "execution_count": 18
        }
      ]
    },
    {
      "cell_type": "code",
      "source": [
        "np.random.randint(0,100,size=(3,7))"
      ],
      "metadata": {
        "colab": {
          "base_uri": "https://localhost:8080/"
        },
        "id": "DIGoglCscnfe",
        "outputId": "b0577b92-e8b4-48b2-9873-20176231f83c"
      },
      "execution_count": 19,
      "outputs": [
        {
          "output_type": "execute_result",
          "data": {
            "text/plain": [
              "array([[49, 92, 40, 98, 17,  0, 10],\n",
              "       [65, 38, 38, 42, 33, 97, 62],\n",
              "       [ 7, 73, 84, 45, 73, 22, 78]])"
            ]
          },
          "metadata": {},
          "execution_count": 19
        }
      ]
    },
    {
      "cell_type": "code",
      "source": [
        "print(np.arange(1,11,1))"
      ],
      "metadata": {
        "colab": {
          "base_uri": "https://localhost:8080/"
        },
        "id": "IpF2vHwHdUVK",
        "outputId": "f17be62a-03c3-4f4b-ce81-2a0c769df41a"
      },
      "execution_count": 21,
      "outputs": [
        {
          "output_type": "stream",
          "name": "stdout",
          "text": [
            "[ 1  2  3  4  5  6  7  8  9 10]\n"
          ]
        }
      ]
    },
    {
      "cell_type": "code",
      "source": [
        "print(np.arange(1,2,0.1))"
      ],
      "metadata": {
        "colab": {
          "base_uri": "https://localhost:8080/"
        },
        "id": "x0W38YKTdfh7",
        "outputId": "fba4e464-2bfa-4316-afab-a0f96706282f"
      },
      "execution_count": 22,
      "outputs": [
        {
          "output_type": "stream",
          "name": "stdout",
          "text": [
            "[1.  1.1 1.2 1.3 1.4 1.5 1.6 1.7 1.8 1.9]\n"
          ]
        }
      ]
    },
    {
      "cell_type": "code",
      "source": [
        "import numpy as np\n",
        "arr1 = np.array([2,4,6,8,10])\n",
        "arr2 = np.array([5,10,15,20,25])\n",
        "result = arr1 + arr2\n",
        "print(result)\n",
        "result = arr1 - arr2\n",
        "print(result)\n",
        "result = arr1 * arr2\n",
        "print(result)\n",
        "result = arr1 / arr2\n",
        "print(result)"
      ],
      "metadata": {
        "colab": {
          "base_uri": "https://localhost:8080/"
        },
        "id": "FdaPUSaIemC-",
        "outputId": "31bc7fb5-acce-4ff4-f005-ef9fe15ebad2"
      },
      "execution_count": 27,
      "outputs": [
        {
          "output_type": "stream",
          "name": "stdout",
          "text": [
            "[ 7 14 21 28 35]\n",
            "[ -3  -6  -9 -12 -15]\n",
            "[ 10  40  90 160 250]\n",
            "[0.4 0.4 0.4 0.4 0.4]\n"
          ]
        }
      ]
    },
    {
      "cell_type": "code",
      "source": [
        "arr=[1,8,16,19,27,28,55]\n",
        "np.sort(arr)\n",
        "print(arr[::-1])\n"
      ],
      "metadata": {
        "colab": {
          "base_uri": "https://localhost:8080/"
        },
        "id": "k-BGuJMOgQHQ",
        "outputId": "052ca64a-b2ac-4175-dc4d-a6d785a77fd0"
      },
      "execution_count": 55,
      "outputs": [
        {
          "output_type": "stream",
          "name": "stdout",
          "text": [
            "[32, 55, 28, 27, 19, 16, 8, 1]\n"
          ]
        }
      ]
    },
    {
      "cell_type": "code",
      "source": [
        "import numpy as np\n",
        "coffee = [87,63,64,110,144,143,69,53,133,55,78,123,63,101]\n",
        "waffle = [87,36,32,101,41,78,115,31,53,11,13,119,25,65]\n",
        "\n",
        "coffee = np.array(coffee) *3400\n",
        "waffle = np.array(waffle) *6700\n",
        "coffee1 = 0\n",
        "waffle1 = 0\n",
        "coffee2 = 0\n",
        "waffle2 = 0\n",
        "for i in coffee:\n",
        "  coffee1 += i\n",
        "for i in waffle:\n",
        "  waffle1 += i\n",
        "coffee2 = coffee1 / len(coffee)\n",
        "waffle2 = waffle1 / len(waffle)\n",
        "total = coffee+waffle\n",
        "result = np.where(total <= 450000)\n",
        "print(result)\n",
        "\n",
        "print('Coffee:',coffee1,'_',int(coffee2))\n",
        "print('Waffle:',waffle1,'_',int(waffle2))\n",
        "print('일별 총매출:',total)\n",
        "print('낮은 매출:'total[result])\n"
      ],
      "metadata": {
        "colab": {
          "base_uri": "https://localhost:8080/"
        },
        "id": "qNTtBjGUhxa-",
        "outputId": "601aef60-960a-435f-a206-c598a9c770ef"
      },
      "execution_count": 84,
      "outputs": [
        {
          "output_type": "stream",
          "name": "stdout",
          "text": [
            "(array([ 2,  7,  9, 10, 12]),)\n",
            "Coffee: 4372400 _ 312314\n",
            "Waffle: 5406900 _ 386207\n",
            "일별 총매출: [ 878700  455400  432000 1050700  764300 1008800 1005100  387900  807300\n",
            "  260700  352300 1215500  381700  778900]\n",
            "[432000 387900 260700 352300 381700]\n"
          ]
        }
      ]
    }
  ]
}